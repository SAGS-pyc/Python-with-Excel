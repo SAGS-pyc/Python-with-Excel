{
 "cells": [
  {
   "cell_type": "markdown",
   "id": "d54282fb-3dc0-4288-bc76-1ed80df4e2c9",
   "metadata": {},
   "source": [
    "# Financial Data Project"
   ]
  },
  {
   "cell_type": "markdown",
   "id": "c915fb44-77fb-4c4f-bb2a-6d558de2c554",
   "metadata": {},
   "source": [
    "#### Proyecto: Automatización de Procesos Financieros y Validación de Datos\n",
    "\n",
    "##### Objetivo del Proyecto\n",
    "Desarrollar un sistema para automatizar la manipulación de datos financieros, actualizar procesos operativos repetitivos y validar la calidad de la información financiera, presentando informes en Tableau."
   ]
  },
  {
   "cell_type": "markdown",
   "id": "68db2a09-17b0-45ee-8e33-e162de52fc24",
   "metadata": {},
   "source": [
    "#### Crear el Data Frame"
   ]
  },
  {
   "cell_type": "code",
   "execution_count": 9,
   "id": "b32ce063-4566-45fd-a0d8-232123c00fd9",
   "metadata": {},
   "outputs": [],
   "source": [
    "import pandas as pd\n",
    "\n",
    "# Creación de los datos financieros simulados\n",
    "data = {\n",
    "    \"transaction_id\": range(1, 26),  # 25 transacciones\n",
    "    \"date\": pd.date_range(start=\"2023-01-01\", periods=25, freq='D'),\n",
    "    \"account_number\": [1001, 1002, 1003, 1004, 1005] * 5,\n",
    "    \"transaction_type\": [\"credit\", \"debit\", \"debit\", \"credit\", \"credit\"] * 5,\n",
    "    \"amount\": [1000, -500, -250, 1200, 800] * 5,\n",
    "    \"balance\": [5000, 4500, 4250, 5450, 6250] * 5\n",
    "}\n",
    "\n",
    "# Crear DataFrame\n",
    "df_financial = pd.DataFrame(data)\n",
    "\n",
    "# Guardar como archivo CSV\n",
    "df_financial.to_csv('financial_data.csv', index=False)"
   ]
  },
  {
   "cell_type": "code",
   "execution_count": null,
   "id": "fbfe5788-2304-43f7-a7f4-5299363625f8",
   "metadata": {},
   "outputs": [],
   "source": []
  }
 ],
 "metadata": {
  "kernelspec": {
   "display_name": "Python 3 (ipykernel)",
   "language": "python",
   "name": "python3"
  },
  "language_info": {
   "codemirror_mode": {
    "name": "ipython",
    "version": 3
   },
   "file_extension": ".py",
   "mimetype": "text/x-python",
   "name": "python",
   "nbconvert_exporter": "python",
   "pygments_lexer": "ipython3",
   "version": "3.12.4"
  }
 },
 "nbformat": 4,
 "nbformat_minor": 5
}
