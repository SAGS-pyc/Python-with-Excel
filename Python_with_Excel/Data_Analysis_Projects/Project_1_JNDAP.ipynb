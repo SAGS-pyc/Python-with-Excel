{
 "cells": [
  {
   "cell_type": "markdown",
   "id": "1aa96e98-7653-4516-a88f-b35301f1e26e",
   "metadata": {},
   "source": [
    "## Project 1: Sales Data Cleaning and Visualization | Proyecto 1: Limpieza y Visualización de Datos de Ventas"
   ]
  },
  {
   "cell_type": "markdown",
   "id": "8a72e290-b8e9-43f2-8fa7-a18c7c2544e0",
   "metadata": {},
   "source": [
    "### Project Objective | Objetivo del Proyecto\n",
    "\r\n",
    "The objective of this project is to perform a detailed analysis of the sales data of a store that sells electronic products. Through this project, we will seek to clean the data set, identify patterns and generate visualizations that allow a better understanding of sales behavior by product and over time. This will allow informed decisions to be made about inventory management and marketing strategie.\n",
    "________________________________________________________________________________________________________________________________________________________\n",
    "\n",
    "El objetivo de este proyecto es realizar un análisis detallado de los datos de ventas de una tienda que comercializa productos electrónicos. A través de este proyecto, se buscará limpiar el conjunto de datos, identificar patrones y generar visualizaciones que permitan entender mejor el comportamiento de las ventas por producto y a lo largo del tiempo. Esto permitirá tomar decisiones informadas sobre la gestión de inventario y estrategias de marketing."
   ]
  },
  {
   "cell_type": "markdown",
   "id": "2b607363-4297-4b24-b988-e992df881f93",
   "metadata": {},
   "source": [
    "### Code | Codigo"
   ]
  },
  {
   "cell_type": "code",
   "execution_count": null,
   "id": "e2851342-91a6-4e13-a762-3968a4fe7241",
   "metadata": {},
   "outputs": [],
   "source": []
  }
 ],
 "metadata": {
  "kernelspec": {
   "display_name": "Python 3 (ipykernel)",
   "language": "python",
   "name": "python3"
  },
  "language_info": {
   "codemirror_mode": {
    "name": "ipython",
    "version": 3
   },
   "file_extension": ".py",
   "mimetype": "text/x-python",
   "name": "python",
   "nbconvert_exporter": "python",
   "pygments_lexer": "ipython3",
   "version": "3.12.4"
  }
 },
 "nbformat": 4,
 "nbformat_minor": 5
}
